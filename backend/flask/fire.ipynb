{
 "cells": [
  {
   "cell_type": "code",
   "execution_count": 1,
   "metadata": {},
   "outputs": [
    {
     "data": {
      "text/plain": [
       "<firebase_admin.App at 0x1c9156b0430>"
      ]
     },
     "execution_count": 1,
     "metadata": {},
     "output_type": "execute_result"
    }
   ],
   "source": [
    "import firebase_admin\n",
    "from firebase_admin import credentials\n",
    "from firebase_admin import firestore\n",
    "\n",
    "\n",
    "cred = credentials.Certificate(\"firebase_key.json\")\n",
    "firebase_admin.initialize_app(cred)\n",
    "\n",
    "#db=firestore.client()\n"
   ]
  },
  {
   "cell_type": "code",
   "execution_count": 3,
   "metadata": {},
   "outputs": [],
   "source": [
    "data_format = {\n",
    "    u'behavioral_ratings':   [0, 0, 3, 5, 0, 0, 0, 0, 0, 0],\n",
    "    u'body_image_ratings':   [0, 0, 0, 0, 0, 0, 0, 0, 0, 0],\n",
    "    u'grief_ratings':        [0, 0, 0, 0, 0, 0, 0, 0, 0, 0],\n",
    "    u'relationship_ratings': [0, 0, 0, 0, 0, 0, 0, 0, 0, 0],\n",
    "    u'depression_ratings':   [0, 0, 0, 0, 0, 0, 0, 0, 0, 0],\n",
    "    u'physical_ratings':     [0, 0, 0, 0, 0, 0, 0, 0, 0, 0],\n",
    "}\n",
    "\n",
    "\n",
    "#user_ref.set({\n",
    "#    u'behavioral_ratings':   [1, 0, 0, 0, 4, 0, 0, 0, 2, 0],\n",
    "#    u'body_image_ratings':   [0, 0, 0, 0, 0, 0, 0, 0, 0, 0],\n",
    "#    u'grief_ratings':        [0, 0, 0, 0, 0, 0, 0, 0, 0, 0],\n",
    "#    u'relationship_ratings': [0, 0, 0, 0, 0, 0, 0, 0, 0, 0],\n",
    "#    u'depression_ratings':   [0, 0, 0, 0, 0, 0, 0, 0, 0, 0],\n",
    "#    u'physical_ratings':     [0, 0, 0, 0, 0, 0, 0, 0, 0, 0],\n",
    "#})"
   ]
  },
  {
   "cell_type": "code",
   "execution_count": 148,
   "metadata": {},
   "outputs": [
    {
     "name": "stdout",
     "output_type": "stream",
     "text": [
      "https://www.vivapartnership.com/happenings/5-tips-for-coping-with-compulsive-behaviors/\n"
     ]
    },
    {
     "data": {
      "text/plain": [
       "'behavioral_3'"
      ]
     },
     "execution_count": 148,
     "metadata": {},
     "output_type": "execute_result"
    }
   ],
   "source": [
    "\n",
    "from scipy import spatial\n",
    "\n",
    "def find_links(user_id, category, db):\n",
    "    user_ref = db.collection(u'userRatings').document(f'{user_id}')\n",
    "    user = user_ref.get().to_dict()\n",
    "\n",
    "    max_value =  max(user[f'{category}_ratings'])\n",
    "\n",
    "    unviewed_links_index = []\n",
    "    for count, i in enumerate(user[f'{category}_ratings']):\n",
    "        if i == max_value:\n",
    "            index = count\n",
    "        if i != 0:\n",
    "            pass\n",
    "        else: \n",
    "            unviewed_links_index.append(count)\n",
    " \n",
    "    links_ref = db.collection(u'links').document(f'{category}_links')\n",
    "    links = links_ref.get().to_dict()\n",
    "    \n",
    "    links = [(a,b) for a,b in links_ref.get().to_dict().items()]\n",
    "    favorite_link = [(a,b) for a,b in links if a.endswith(str(index))][0]\n",
    "    favorite_link_vector = favorite_link[1][:2] + [-1]\n",
    "\n",
    "    \n",
    "    unviewed_links = []\n",
    "\n",
    "    for i in unviewed_links_index:\n",
    "        for l in links:\n",
    "            if l[0].endswith(str(i)):\n",
    "                unviewed_links.append(l)\n",
    "    \n",
    "   \n",
    "    highest_similarity_link_similarity = 0\n",
    "    \n",
    "    for i in unviewed_links:\n",
    "        unviewed_link_vector = i[1][:2] + [-1]\n",
    "        similarity = 1 - spatial.distance.cosine(unviewed_link_vector, favorite_link_vector)\n",
    "        \n",
    "        if similarity > highest_similarity_link_similarity:\n",
    "            highest_similarity_link = i\n",
    "            highest_similarity_link_similarity = similarity\n",
    "       \n",
    "    return (highest_similarity_link[1][2], unviewed_links)\n"
   ]
  },
  {
   "cell_type": "code",
   "execution_count": 101,
   "metadata": {},
   "outputs": [
    {
     "data": {
      "text/plain": [
       "{'behavioral_9': [1,\n",
       "  1,\n",
       "  'https://www.youtube.com/watch?v=8ZhoeSaPF-k&ab_channel=ImprovementPill'],\n",
       " 'behavioral_3': [0,\n",
       "  1,\n",
       "  'https://www.vivapartnership.com/happenings/5-tips-for-coping-with-compulsive-behaviors/'],\n",
       " 'behavioral_7': [1,\n",
       "  0,\n",
       "  'https://www.youtube.com/watch?v=zfKvo1bTi6E&ab_channel=FullPerception'],\n",
       " 'behavioral_5': [0,\n",
       "  0,\n",
       "  'https://www.youtube.com/watch?v=VML6qLgOwKk&ab_channel=TheOutcome'],\n",
       " 'behavioral_2': [0, 0, 'https://www.healthline.com/health/anger-issues'],\n",
       " 'behavioral_8': [1,\n",
       "  1,\n",
       "  'https://www.youtube.com/watch?v=ytKCcYxUU04&ab_channel=TheSchoolofLife'],\n",
       " 'behavioral_4': [0,\n",
       "  1,\n",
       "  'https://centerstone.org/our-resources/health-wellness/what-are-mood-swings-and-how-to-manage-them/'],\n",
       " 'behavioral_0': [1,\n",
       "  0,\n",
       "  'https://www.verywellmind.com/how-can-i-stop-ocd-thoughts-2510498#:~:text=ask%20a%20doctor.-,Therapy,response%20prevention%20therapy%20(ERP).'],\n",
       " 'behavioral_1': [0,\n",
       "  0,\n",
       "  'https://www.mayoclinic.org/diseases-conditions/anxiety/diagnosis-treatment/drc-20350967'],\n",
       " 'behavioral_6': [1,\n",
       "  0,\n",
       "  'https://www.youtube.com/watch?v=tTb3d5cjSFI&ab_channel=TEDxTalks']}"
      ]
     },
     "execution_count": 101,
     "metadata": {},
     "output_type": "execute_result"
    }
   ],
   "source": [
    "physical_links_ref = db.collection(u'links').document(u'physical_links')\n",
    "physical_links = physical_links_ref.get().to_dict()\n",
    "\n",
    "body_image_links_ref = db.collection(u'links').document(u'body_image_links')\n",
    "body_image_links = body_image_links_ref.get().to_dict()\n",
    "\n",
    "behavioral_links_ref = db.collection(u'links').document(u'behavioral_links')\n",
    "behavioral_links = behavioral_links_ref.get().to_dict()\n",
    "\n",
    "\n",
    "behavioral_links"
   ]
  },
  {
   "cell_type": "code",
   "execution_count": 103,
   "metadata": {},
   "outputs": [
    {
     "data": {
      "text/html": [
       "<div>\n",
       "<style scoped>\n",
       "    .dataframe tbody tr th:only-of-type {\n",
       "        vertical-align: middle;\n",
       "    }\n",
       "\n",
       "    .dataframe tbody tr th {\n",
       "        vertical-align: top;\n",
       "    }\n",
       "\n",
       "    .dataframe thead th {\n",
       "        text-align: right;\n",
       "    }\n",
       "</style>\n",
       "<table border=\"1\" class=\"dataframe\">\n",
       "  <thead>\n",
       "    <tr style=\"text-align: right;\">\n",
       "      <th></th>\n",
       "      <th>link_format</th>\n",
       "      <th>link_tone</th>\n",
       "      <th>link</th>\n",
       "      <th>dummy_data</th>\n",
       "    </tr>\n",
       "  </thead>\n",
       "  <tbody>\n",
       "    <tr>\n",
       "      <th>physical_7</th>\n",
       "      <td>1</td>\n",
       "      <td>1</td>\n",
       "      <td>https://www.youtube.com/watch?v=hYwXPMvOmuI&amp;ab...</td>\n",
       "      <td>-1</td>\n",
       "    </tr>\n",
       "    <tr>\n",
       "      <th>physical_8</th>\n",
       "      <td>1</td>\n",
       "      <td>0</td>\n",
       "      <td>https://www.youtube.com/watch?v=WVootGaWv4M&amp;ab...</td>\n",
       "      <td>-1</td>\n",
       "    </tr>\n",
       "    <tr>\n",
       "      <th>physical_4</th>\n",
       "      <td>0</td>\n",
       "      <td>0</td>\n",
       "      <td>https://www.psychologicalscience.org/observer/...</td>\n",
       "      <td>-1</td>\n",
       "    </tr>\n",
       "    <tr>\n",
       "      <th>physical_3</th>\n",
       "      <td>0</td>\n",
       "      <td>0</td>\n",
       "      <td>https://www.mayoclinic.org/diseases-conditions...</td>\n",
       "      <td>-1</td>\n",
       "    </tr>\n",
       "    <tr>\n",
       "      <th>physical_9</th>\n",
       "      <td>1</td>\n",
       "      <td>0</td>\n",
       "      <td>https://www.youtube.com/watch?v=faonl3-t6MA&amp;ab...</td>\n",
       "      <td>-1</td>\n",
       "    </tr>\n",
       "    <tr>\n",
       "      <th>physical_1</th>\n",
       "      <td>0</td>\n",
       "      <td>1</td>\n",
       "      <td>https://www.health.harvard.edu/mind-and-mood/6...</td>\n",
       "      <td>-1</td>\n",
       "    </tr>\n",
       "    <tr>\n",
       "      <th>physical_0</th>\n",
       "      <td>1</td>\n",
       "      <td>1</td>\n",
       "      <td>https://www.webmd.com/pain-management/guide/11...</td>\n",
       "      <td>-1</td>\n",
       "    </tr>\n",
       "    <tr>\n",
       "      <th>physical_5</th>\n",
       "      <td>1</td>\n",
       "      <td>0</td>\n",
       "      <td>https://www.youtube.com/watch?v=WOlyYbxp_iY&amp;ab...</td>\n",
       "      <td>-1</td>\n",
       "    </tr>\n",
       "    <tr>\n",
       "      <th>physical_2</th>\n",
       "      <td>0</td>\n",
       "      <td>1</td>\n",
       "      <td>https://familydoctor.org/deciding-see-doctor/#...</td>\n",
       "      <td>-1</td>\n",
       "    </tr>\n",
       "    <tr>\n",
       "      <th>physical_6</th>\n",
       "      <td>1</td>\n",
       "      <td>1</td>\n",
       "      <td>https://www.youtube.com/watch?v=EWnKGxRCNAE&amp;ab...</td>\n",
       "      <td>-1</td>\n",
       "    </tr>\n",
       "  </tbody>\n",
       "</table>\n",
       "</div>"
      ],
      "text/plain": [
       "           link_format link_tone  \\\n",
       "physical_7           1         1   \n",
       "physical_8           1         0   \n",
       "physical_4           0         0   \n",
       "physical_3           0         0   \n",
       "physical_9           1         0   \n",
       "physical_1           0         1   \n",
       "physical_0           1         1   \n",
       "physical_5           1         0   \n",
       "physical_2           0         1   \n",
       "physical_6           1         1   \n",
       "\n",
       "                                                         link  dummy_data  \n",
       "physical_7  https://www.youtube.com/watch?v=hYwXPMvOmuI&ab...          -1  \n",
       "physical_8  https://www.youtube.com/watch?v=WVootGaWv4M&ab...          -1  \n",
       "physical_4  https://www.psychologicalscience.org/observer/...          -1  \n",
       "physical_3  https://www.mayoclinic.org/diseases-conditions...          -1  \n",
       "physical_9  https://www.youtube.com/watch?v=faonl3-t6MA&ab...          -1  \n",
       "physical_1  https://www.health.harvard.edu/mind-and-mood/6...          -1  \n",
       "physical_0  https://www.webmd.com/pain-management/guide/11...          -1  \n",
       "physical_5  https://www.youtube.com/watch?v=WOlyYbxp_iY&ab...          -1  \n",
       "physical_2  https://familydoctor.org/deciding-see-doctor/#...          -1  \n",
       "physical_6  https://www.youtube.com/watch?v=EWnKGxRCNAE&ab...          -1  "
      ]
     },
     "execution_count": 103,
     "metadata": {},
     "output_type": "execute_result"
    }
   ],
   "source": [
    "from sklearn.neighbors import NearestNeighbors\n",
    "import pandas as pd\n",
    "\n",
    "#1 for link format is video, 0 is article\n",
    "#1 for link tone is mild, 0 is serious\n",
    "\n",
    "physical_links_df = pd.DataFrame(physical_links).T\n",
    "physical_links_df.columns = ['link_format', 'link_tone', 'link']\n",
    "\n",
    "body_image_links_df = pd.DataFrame(body_image_links).T\n",
    "body_image_links_df.columns = ['link_format', 'link_tone', 'link']\n",
    "\n",
    "behavioral_links_df = pd.DataFrame(behavioral_links).T\n",
    "behavioral_links_df.columns = ['link_format', 'link_tone', 'link']\n",
    "\n",
    "\n",
    "\n",
    "physical_links_df"
   ]
  },
  {
   "cell_type": "code",
   "execution_count": 46,
   "metadata": {},
   "outputs": [
    {
     "data": {
      "text/plain": [
       "1.0"
      ]
     },
     "execution_count": 46,
     "metadata": {},
     "output_type": "execute_result"
    }
   ],
   "source": []
  }
 ],
 "metadata": {
  "kernelspec": {
   "display_name": "Python 3.8.4rc1 64-bit",
   "language": "python",
   "name": "python3"
  },
  "language_info": {
   "codemirror_mode": {
    "name": "ipython",
    "version": 3
   },
   "file_extension": ".py",
   "mimetype": "text/x-python",
   "name": "python",
   "nbconvert_exporter": "python",
   "pygments_lexer": "ipython3",
   "version": "3.8.4"
  },
  "orig_nbformat": 4,
  "vscode": {
   "interpreter": {
    "hash": "96cec487207b392fa9d2d5631fb8426bf20c81886020bda584338f1114db8ee4"
   }
  }
 },
 "nbformat": 4,
 "nbformat_minor": 2
}
